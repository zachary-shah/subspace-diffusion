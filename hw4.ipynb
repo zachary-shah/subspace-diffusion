{
 "cells": [
  {
   "cell_type": "code",
   "execution_count": 1,
   "metadata": {},
   "outputs": [],
   "source": [
    "import torch\n",
    "from torchvision import datasets, models, transforms\n",
    "import torch.nn as nn\n",
    "import numpy as np\n",
    "import os\n",
    "import matplotlib.pyplot as plt\n",
    "from torch.utils.data import DataLoader\n",
    "import tqdm\n",
    "from sklearn.decomposition import PCA"
   ]
  },
  {
   "cell_type": "code",
   "execution_count": 7,
   "metadata": {},
   "outputs": [
    {
     "data": {
      "application/json": {
       "ascii": false,
       "bar_format": null,
       "colour": null,
       "elapsed": 0.013020515441894531,
       "initial": 0,
       "n": 0,
       "ncols": null,
       "nrows": null,
       "postfix": null,
       "prefix": "Downloading cifar10_ncsn_16x16.pth",
       "rate": null,
       "total": 989066799,
       "unit": "B",
       "unit_divisor": 1000,
       "unit_scale": true
      },
      "application/vnd.jupyter.widget-view+json": {
       "model_id": "870e6744940c42b0a5716a6e6c54a438",
       "version_major": 2,
       "version_minor": 0
      },
      "text/plain": [
       "Downloading cifar10_ncsn_16x16.pth:   0%|          | 0.00/989M [00:00<?, ?B/s]"
      ]
     },
     "metadata": {},
     "output_type": "display_data"
    },
    {
     "data": {
      "application/json": {
       "ascii": false,
       "bar_format": null,
       "colour": null,
       "elapsed": 0.012926578521728516,
       "initial": 0,
       "n": 0,
       "ncols": null,
       "nrows": null,
       "postfix": null,
       "prefix": "Downloading cifar10_ncsn_full.pth",
       "rate": null,
       "total": 1004850464,
       "unit": "B",
       "unit_divisor": 1000,
       "unit_scale": true
      },
      "application/vnd.jupyter.widget-view+json": {
       "model_id": "c07aa9847f3c4d849dffd2e0b07d94d7",
       "version_major": 2,
       "version_minor": 0
      },
      "text/plain": [
       "Downloading cifar10_ncsn_full.pth:   0%|          | 0.00/1.00G [00:00<?, ?B/s]"
      ]
     },
     "metadata": {},
     "output_type": "display_data"
    }
   ],
   "source": [
    "from huggingface_hub import hf_hub_download\n",
    "\n",
    "files = [\n",
    "    'cifar10_ncsn_16x16.pth',\n",
    "    'cifar10_ncsn_8x8.pth',\n",
    "    'cifar10_ncsn_full.pth'\n",
    "]\n",
    "for mdl_str in mdls:\n",
    "    hf_hub_download(\n",
    "        repo_id='zachary-shah/subspace-diffusion',\n",
    "        filename=mdl_str,\n",
    "        repo_type='model',\n",
    "        local_dir='./pretrained/',\n",
    "    )"
   ]
  },
  {
   "cell_type": "code",
   "execution_count": 6,
   "metadata": {},
   "outputs": [
    {
     "data": {
      "application/json": {
       "ascii": false,
       "bar_format": null,
       "colour": null,
       "elapsed": 0.013500213623046875,
       "initial": 0,
       "n": 0,
       "ncols": null,
       "nrows": null,
       "postfix": null,
       "prefix": "Downloading cifar10_stats.npz",
       "rate": null,
       "total": 554419853,
       "unit": "B",
       "unit_divisor": 1000,
       "unit_scale": true
      },
      "application/vnd.jupyter.widget-view+json": {
       "model_id": "58937ff7c11a460dbff15e64a56e2ee3",
       "version_major": 2,
       "version_minor": 0
      },
      "text/plain": [
       "Downloading cifar10_stats.npz:   0%|          | 0.00/554M [00:00<?, ?B/s]"
      ]
     },
     "metadata": {},
     "output_type": "display_data"
    },
    {
     "data": {
      "text/plain": [
       "'./assets/stats/cifar10_stats.npz'"
      ]
     },
     "execution_count": 6,
     "metadata": {},
     "output_type": "execute_result"
    }
   ],
   "source": [
    "# get CIFAR-10 stats\n",
    "hf_hub_download(\n",
    "    repo_id='zachary-shah/subspace-diffusion',\n",
    "    filename='cifar10_stats.npz',\n",
    "    repo_type='model',\n",
    "    local_dir='./assets/stats/',\n",
    ")"
   ]
  },
  {
   "cell_type": "code",
   "execution_count": 5,
   "metadata": {},
   "outputs": [
    {
     "name": "stdout",
     "output_type": "stream",
     "text": [
      "Downloading https://www.cs.toronto.edu/~kriz/cifar-10-python.tar.gz to cifar10/cifar-10-python.tar.gz\n"
     ]
    },
    {
     "name": "stderr",
     "output_type": "stream",
     "text": [
      "100%|██████████| 170498071/170498071 [00:04<00:00, 34127864.88it/s]\n"
     ]
    },
    {
     "name": "stdout",
     "output_type": "stream",
     "text": [
      "Extracting cifar10/cifar-10-python.tar.gz to cifar10\n"
     ]
    }
   ],
   "source": [
    "cifar = datasets.CIFAR10('cifar10', train=True, transform=transforms.ToTensor(), download=True)\n",
    "cifar_loader = DataLoader(cifar, batch_size=1000, shuffle=False)"
   ]
  },
  {
   "cell_type": "code",
   "execution_count": null,
   "metadata": {},
   "outputs": [],
   "source": [
    "\"\"\"\n",
    "python subspace_sample.py --config configs/ve/cifar10_ncsnpp_continuous.py \\\n",
    "    --dataset cifar --time 0.5 --subspace 8 --langevin_snr 0.22 \\\n",
    "    --eval_folder ./eval --save_name test_run \\\n",
    "    --ckpt_subspace ./pretrained/cifar10_ncsn_8x8.pth \\\n",
    "    --ckpt_full ./pretrained/cifar10_ncsn_full.pth \\\n",
    "    --number_samples 10 --batch 10\n",
    "\n",
    "\"\"\""
   ]
  },
  {
   "cell_type": "code",
   "execution_count": null,
   "metadata": {},
   "outputs": [],
   "source": []
  }
 ],
 "metadata": {
  "kernelspec": {
   "display_name": "sub-diff",
   "language": "python",
   "name": "python3"
  },
  "language_info": {
   "codemirror_mode": {
    "name": "ipython",
    "version": 3
   },
   "file_extension": ".py",
   "mimetype": "text/x-python",
   "name": "python",
   "nbconvert_exporter": "python",
   "pygments_lexer": "ipython3",
   "version": "3.10.13"
  }
 },
 "nbformat": 4,
 "nbformat_minor": 2
}
